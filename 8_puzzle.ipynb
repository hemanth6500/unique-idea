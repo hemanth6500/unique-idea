{
  "nbformat": 4,
  "nbformat_minor": 0,
  "metadata": {
    "colab": {
      "provenance": [],
      "authorship_tag": "ABX9TyOtEFkT18Mkus2mVeLfRiMr",
      "include_colab_link": true
    },
    "kernelspec": {
      "name": "python3",
      "display_name": "Python 3"
    },
    "language_info": {
      "name": "python"
    }
  },
  "cells": [
    {
      "cell_type": "markdown",
      "metadata": {
        "id": "view-in-github",
        "colab_type": "text"
      },
      "source": [
        "<a href=\"https://colab.research.google.com/github/hemanth6500/unique-idea/blob/main/8_puzzle.ipynb\" target=\"_parent\"><img src=\"https://colab.research.google.com/assets/colab-badge.svg\" alt=\"Open In Colab\"/></a>"
      ]
    },
    {
      "cell_type": "code",
      "execution_count": null,
      "metadata": {
        "id": "9mUDlCTQTo7y"
      },
      "outputs": [],
      "source": [
        "8- puzzle:\n",
        "from collections import deque\n",
        "\n",
        "initial_state = [ [1, 2, 3],\n",
        "                  [5, 6, 0],\n",
        "                  [7, 8, 4]]\n",
        "goal_state = [ [1, 2, 3],\n",
        "               [5, 8, 6],\n",
        "               [0, 7, 4]]\n",
        "\n",
        "def is_goal_state(state):\n",
        "    return state == goal_state\n",
        "\n",
        "def find_blank_tile(state):\n",
        "    for i in range(3):\n",
        "        for j in range(3):\n",
        "            if state[i][j] == 0:\n",
        "                return (i, j)\n",
        "\n",
        "def generate_states(state):\n",
        "    blank_tile = find_blank_tile(state)\n",
        "    i, j = blank_tile[0], blank_tile[1]\n",
        "\n",
        "    states = []\n",
        "\n",
        "    if i > 0:\n",
        "        new_state = [row[:] for row in state]\n",
        "        new_state[i][j], new_state[i-1][j] = new_state[i-1][j], new_state[i][j]\n",
        "        states.append(new_state)\n",
        "        for row in new_state:\n",
        "            print(row)\n",
        "        print(\"\\n\")\n",
        "\n",
        "    if j > 0:\n",
        "        new_state = [row[:] for row in state]\n",
        "        new_state[i][j], new_state[i][j-1] = new_state[i][j-1], new_state[i][j]\n",
        "        states.append(new_state)\n",
        "        for row in new_state:\n",
        "            print(row)\n",
        "        print(\"\\n\")\n",
        "\n",
        "    if i < 2:\n",
        "        new_state = [row[:] for row in state]\n",
        "        new_state[i][j], new_state[i+1][j] = new_state[i+1][j], new_state[i][j]\n",
        "        states.append(new_state)\n",
        "        for row in new_state:\n",
        "            print(row)\n",
        "        print(\"\\n\")\n",
        "\n",
        "    if j < 2:\n",
        "        new_state = [row[:] for row in state]\n",
        "        new_state[i][j], new_state[i][j+1] = new_state[i][j+1], new_state[i][j]\n",
        "        states.append(new_state)\n",
        "        for row in new_state:\n",
        "            print(row)\n",
        "        print(\"\\n\")\n",
        "\n",
        "    return states\n",
        "\n",
        "def breadth_first_search():\n",
        "    queue = deque()\n",
        "    visited = set()\n",
        "\n",
        "    queue.append(initial_state)\n",
        "    visited.add(tuple(tuple(x) for x in initial_state))\n",
        "\n",
        "    while queue:\n",
        "        current_state = queue.popleft()\n",
        "\n",
        "        if is_goal_state(current_state):\n",
        "            print(\"Found goal state: \")\n",
        "            for row in current_state:\n",
        "                print(row)\n",
        "            return\n",
        "\n",
        "        for state in generate_states(current_state):\n",
        "            if tuple(tuple(x) for x in state) not in visited:\n",
        "                queue.append(state)\n",
        "                visited.add(tuple(tuple(x) for x in state))\n",
        "\n",
        "breadth_first_search()"
      ]
    }
  ]
}